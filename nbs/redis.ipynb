{
 "cells": [
  {
   "cell_type": "code",
   "execution_count": 1,
   "id": "0e53c5bf",
   "metadata": {},
   "outputs": [],
   "source": [
    "import redis\n",
    "import json"
   ]
  },
  {
   "cell_type": "code",
   "execution_count": 2,
   "id": "e2161607",
   "metadata": {},
   "outputs": [],
   "source": [
    "client = redis.Redis(host='localhost', port=6379, db=0)"
   ]
  },
  {
   "cell_type": "code",
   "execution_count": 3,
   "id": "c49f81d1",
   "metadata": {},
   "outputs": [
    {
     "name": "stdout",
     "output_type": "stream",
     "text": [
      "b'user_jobs:test-user-123'\n",
      "b'project:5a5f0cf8-e714-47cc-835b-04e60cdbdc52'\n",
      "b'job:64d672a7-4130-4566-8805-2fa9c6e6c956'\n",
      "b'user:google-oauth2|111962411139153579092'\n",
      "b'celery-task-meta-64d672a7-4130-4566-8805-2fa9c6e6c956'\n",
      "b'user_jobs:google-oauth2|111962411139153579092'\n",
      "b'user:test-user-123'\n",
      "b'project_jobs:5a5f0cf8-e714-47cc-835b-04e60cdbdc52'\n",
      "b'project:13ade3f6-8ec2-42ba-aff4-60ce15186180'\n",
      "b'job:test-job-123'\n",
      "b'user_projects:google-oauth2|111962411139153579092'\n",
      "b'_kombu.binding.analysis'\n"
     ]
    }
   ],
   "source": [
    "for key in client.scan_iter('*'):\n",
    "    print(key)"
   ]
  },
  {
   "cell_type": "code",
   "execution_count": null,
   "id": "03f97006",
   "metadata": {},
   "outputs": [],
   "source": [
    "b'_kombu.binding.celery.pidbox'\n",
    "b'job:5e2d97dc-3435-49c5-842c-18e5dadb6505'\n",
    "b'user:google-oauth2|111962411139153579092'\n",
    "b'job:0891cb05-3759-491b-bad3-9cfca974b3a6'\n",
    "b'user_jobs:google-oauth2|111962411139153579092'\n",
    "b'project_jobs:ec974726-2c96-4638-9bdb-1b96e43c54cb'\n",
    "b'project:e1f3d8d4-2c73-4dd5-90ad-d60599087a32'\n",
    "b'celery-task-meta-0891cb05-3759-491b-bad3-9cfca974b3a6'\n",
    "b'user_projects:google-oauth2|111962411139153579092'\n",
    "b'_kombu.binding.analysis'\n",
    "b'_kombu.binding.execution'\n",
    "b'project:ec974726-2c96-4638-9bdb-1b96e43c54cb'\n",
    "b'_kombu.binding.celeryev'\n",
    "b'project:8568c787-cf08-441f-890f-2e27e903e95e'\n",
    "b'celery-task-meta-5e2d97dc-3435-49c5-842c-18e5dadb6505'"
   ]
  },
  {
   "cell_type": "code",
   "execution_count": 5,
   "id": "b85296e1",
   "metadata": {},
   "outputs": [],
   "source": [
    "k = client.get(\"job:64d672a7-4130-4566-8805-2fa9c6e6c956\")\n",
    "\n",
    "k = json.loads(k)"
   ]
  },
  {
   "cell_type": "code",
   "execution_count": 9,
   "id": "ab2c735c",
   "metadata": {},
   "outputs": [],
   "source": [
    "import json\n",
    "\n",
    "# save k as job.json\n",
    "with open(\"job.json\", \"w\") as f:\n",
    "    json.dump(k, f)"
   ]
  },
  {
   "cell_type": "code",
   "execution_count": null,
   "id": "d76e8596",
   "metadata": {},
   "outputs": [],
   "source": [
    "# print(json.loads(k)['use_cases']['3']['container_logs'])"
   ]
  },
  {
   "cell_type": "code",
   "execution_count": null,
   "id": "0b40a4e8",
   "metadata": {},
   "outputs": [],
   "source": [
    "client.hgetall(\"user:google-oauth2|111962411139153579092\")"
   ]
  },
  {
   "cell_type": "code",
   "execution_count": null,
   "id": "7cc83985",
   "metadata": {},
   "outputs": [],
   "source": [
    "# client.delete(\"user:google-oauth2|111962411139153579092\")"
   ]
  },
  {
   "cell_type": "code",
   "execution_count": null,
   "id": "4dbb8bf6",
   "metadata": {},
   "outputs": [],
   "source": []
  }
 ],
 "metadata": {
  "kernelspec": {
   "display_name": "base",
   "language": "python",
   "name": "python3"
  },
  "language_info": {
   "codemirror_mode": {
    "name": "ipython",
    "version": 3
   },
   "file_extension": ".py",
   "mimetype": "text/x-python",
   "name": "python",
   "nbconvert_exporter": "python",
   "pygments_lexer": "ipython3",
   "version": "3.11.11"
  }
 },
 "nbformat": 4,
 "nbformat_minor": 5
}
