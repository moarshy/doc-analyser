{
 "cells": [
  {
   "cell_type": "code",
   "execution_count": 1,
   "id": "0e53c5bf",
   "metadata": {},
   "outputs": [],
   "source": [
    "import redis\n",
    "import json"
   ]
  },
  {
   "cell_type": "code",
   "execution_count": 2,
   "id": "e2161607",
   "metadata": {},
   "outputs": [],
   "source": [
    "client = redis.Redis(host='localhost', port=6379, db=0)"
   ]
  },
  {
   "cell_type": "code",
   "execution_count": 3,
   "id": "c49f81d1",
   "metadata": {},
   "outputs": [
    {
     "name": "stdout",
     "output_type": "stream",
     "text": [
      "b'job:a3098dce-e870-4efc-9647-ff7210beb238'\n",
      "b'job:07696ec2-5b17-4a2b-94e4-70d221623da2'\n",
      "b'job:a4f96761-6e09-4adf-a0df-49ee9a9f53a6'\n"
     ]
    }
   ],
   "source": [
    "for key in client.scan_iter('job:*'):\n",
    "    print(key)"
   ]
  },
  {
   "cell_type": "code",
   "execution_count": 6,
   "id": "b85296e1",
   "metadata": {},
   "outputs": [],
   "source": [
    "k = client.get(\"job:a4f96761-6e09-4adf-a0df-49ee9a9f53a6\")"
   ]
  },
  {
   "cell_type": "code",
   "execution_count": 7,
   "id": "d76e8596",
   "metadata": {},
   "outputs": [
    {
     "data": {
      "text/plain": [
       "{'status': 'executing',\n",
       " 'total_use_cases': 12,\n",
       " 'completed': 0,\n",
       " 'failed': 0,\n",
       " 'pending': 12,\n",
       " 'job_params': {'repository_url': 'https://github.com/guardrails-ai/guardrails',\n",
       "  'branch': 'main',\n",
       "  'include_folders': ['docs'],\n",
       "  'job_id': 'a4f96761-6e09-4adf-a0df-49ee9a9f53a6'},\n",
       " 'use_cases': {'0': {'name': 'PII Detection and Protection',\n",
       "   'status': 'completed',\n",
       "   'data': {'name': 'PII Detection and Protection',\n",
       "    'description': 'Detect and mask Personally Identifiable Information (PII) in LLM outputs to protect user privacy and comply with data protection regulations.',\n",
       "    'success_criteria': ['All detected PII entities are properly masked or removed',\n",
       "     'Non-PII content remains intact and readable',\n",
       "     'Support for multiple PII types: EMAIL_ADDRESS, PHONE_NUMBER, US_BANK_NUMBER, US_ITIN, US_DRIVER_LICENSE'],\n",
       "    'difficulty_level': 'Beginner',\n",
       "    'documentation_source': ['/workspace/repo/docs/examples/check_for_pii.ipynb']}},\n",
       "  '1': {'name': 'Toxic Language Moderation',\n",
       "   'status': 'completed',\n",
       "   'data': {'name': 'Toxic Language Moderation',\n",
       "    'description': 'Detect and filter toxic, offensive, or inappropriate language in chatbots and AI-generated content to maintain safe user experiences.',\n",
       "    'success_criteria': ['Toxic sentences are identified and removed',\n",
       "     'Non-toxic content is preserved',\n",
       "     'Configurable toxicity thresholds for different use cases'],\n",
       "    'difficulty_level': 'Beginner',\n",
       "    'documentation_source': ['/workspace/repo/docs/examples/toxic_language.ipynb',\n",
       "     '/workspace/repo/docs/examples/chatbot.ipynb']}},\n",
       "  '2': {'name': 'Structured Data Generation',\n",
       "   'status': 'completed',\n",
       "   'data': {'name': 'Structured Data Generation',\n",
       "    'description': 'Generate validated, structured data from LLMs with guaranteed schema compliance and data quality for APIs and applications.',\n",
       "    'success_criteria': ['Generated data matches expected schema',\n",
       "     'All validation rules are satisfied',\n",
       "     'Data types and constraints are properly enforced'],\n",
       "    'difficulty_level': 'Intermediate',\n",
       "    'documentation_source': ['/workspace/repo/docs/examples/generate_structured_data.ipynb',\n",
       "     '/workspace/repo/docs/getting_started/structured_data.md']}},\n",
       "  '3': {'name': 'Document Entity Extraction',\n",
       "   'status': 'completed',\n",
       "   'data': {'name': 'Document Entity Extraction',\n",
       "    'description': 'Extract structured information from unstructured documents like contracts, agreements, and policies automatically.',\n",
       "    'success_criteria': ['All relevant entities are extracted',\n",
       "     'Extracted data is properly formatted',\n",
       "     'Missing information is handled gracefully'],\n",
       "    'difficulty_level': 'Intermediate',\n",
       "    'documentation_source': ['/workspace/repo/docs/examples/extracting_entities.ipynb']}},\n",
       "  '4': {'name': 'Text-to-SQL Query Generation',\n",
       "   'status': 'running',\n",
       "   'data': {'name': 'Text-to-SQL Query Generation',\n",
       "    'description': 'Generate safe, valid SQL queries from natural language questions with automatic validation and error correction.',\n",
       "    'success_criteria': ['Generated SQL is syntactically correct',\n",
       "     'Queries only access allowed tables and columns',\n",
       "     'SQL executes without errors against the database'],\n",
       "    'difficulty_level': 'Advanced',\n",
       "    'documentation_source': ['/workspace/repo/docs/use_cases/text2sql/text2sql.ipynb']}},\n",
       "  '5': {'name': 'Code Quality and Validation',\n",
       "   'status': 'running',\n",
       "   'data': {'name': 'Code Quality and Validation',\n",
       "    'description': 'Generate bug-free code snippets and validate syntax correctness for programming tasks and algorithm challenges.',\n",
       "    'success_criteria': ['Code compiles/executes without syntax errors',\n",
       "     'Code follows specified constraints',\n",
       "     'Semantic correctness is maintained'],\n",
       "    'difficulty_level': 'Intermediate',\n",
       "    'documentation_source': ['/workspace/repo/docs/examples/bug_free_python_code.ipynb']}},\n",
       "  '6': {'name': 'Content Summarization with Quality Control',\n",
       "   'status': 'running',\n",
       "   'data': {'name': 'Content Summarization with Quality Control',\n",
       "    'description': 'Generate high-quality summaries of text content with length, similarity, and readability constraints for content management.',\n",
       "    'success_criteria': ['Summary maintains semantic similarity to source',\n",
       "     'Reading time and length constraints are met',\n",
       "     'Key information is preserved'],\n",
       "    'difficulty_level': 'Intermediate',\n",
       "    'documentation_source': ['/workspace/repo/docs/examples/summarizer.ipynb']}},\n",
       "  '7': {'name': 'Translation Quality Assurance',\n",
       "   'status': 'running',\n",
       "   'data': {'name': 'Translation Quality Assurance',\n",
       "    'description': 'Ensure high-quality translations from one language to another with automated quality checks and scoring.',\n",
       "    'success_criteria': ['Translation quality score exceeds threshold',\n",
       "     'Semantic meaning is preserved',\n",
       "     'Cultural context is maintained'],\n",
       "    'difficulty_level': 'Advanced',\n",
       "    'documentation_source': ['/workspace/repo/docs/examples/translation_with_quality_check.ipynb']}},\n",
       "  '8': {'name': 'Chatbot Safety and Moderation',\n",
       "   'status': 'running',\n",
       "   'data': {'name': 'Chatbot Safety and Moderation',\n",
       "    'description': 'Create safe chatbots that filter inappropriate content and maintain conversation quality for customer service and Q&A applications.',\n",
       "    'success_criteria': ['Inappropriate content is blocked or filtered',\n",
       "     'Helpful responses are preserved',\n",
       "     'User experience remains smooth'],\n",
       "    'difficulty_level': 'Intermediate',\n",
       "    'documentation_source': ['/workspace/repo/docs/examples/chatbot.ipynb']}},\n",
       "  '9': {'name': 'Input Validation and Sanitization',\n",
       "   'status': 'pending',\n",
       "   'data': {'name': 'Input Validation and Sanitization',\n",
       "    'description': 'Validate and sanitize user inputs before processing by LLMs to prevent prompt injection and security vulnerabilities.',\n",
       "    'success_criteria': ['Malicious inputs are detected and rejected',\n",
       "     'Valid inputs are processed normally',\n",
       "     'System security is maintained'],\n",
       "    'difficulty_level': 'Beginner',\n",
       "    'documentation_source': ['/workspace/repo/docs/examples/input_validation.ipynb']}},\n",
       "  '10': {'name': 'Regex Pattern Validation',\n",
       "   'status': 'pending',\n",
       "   'data': {'name': 'Regex Pattern Validation',\n",
       "    'description': 'Validate text outputs against custom regular expression patterns for format compliance and data validation.',\n",
       "    'success_criteria': ['Text matches specified regex pattern',\n",
       "     'Invalid formats are rejected',\n",
       "     'Valid formats pass through unchanged'],\n",
       "    'difficulty_level': 'Beginner',\n",
       "    'documentation_source': ['/workspace/repo/docs/examples/regex_validation.ipynb']}},\n",
       "  '11': {'name': 'Secrets Detection',\n",
       "   'status': 'pending',\n",
       "   'data': {'name': 'Secrets Detection',\n",
       "    'description': 'Detect and prevent the generation of sensitive information like API keys, passwords, and secrets in AI responses.',\n",
       "    'success_criteria': ['All detected secrets are masked or removed',\n",
       "     'False positives are minimized',\n",
       "     'Common secret patterns are recognized'],\n",
       "    'difficulty_level': 'Intermediate',\n",
       "    'documentation_source': ['/workspace/repo/docs/examples/no_secrets_in_generated_text.ipynb',\n",
       "     '/workspace/repo/docs/examples/secrets_detection.ipynb']}}},\n",
       " 'created_at': '2025-07-23T06:14:53.036922',\n",
       " 'updated_at': '2025-07-23 06:39:20.807855+00:00',\n",
       " 'repo_path': '/Users/arshath/play/naptha/doc-analyser/data/a4f96761-6e09-4adf-a0df-49ee9a9f53a6/repo',\n",
       " 'data_path': '/Users/arshath/play/naptha/doc-analyser/data/a4f96761-6e09-4adf-a0df-49ee9a9f53a6/data'}"
      ]
     },
     "execution_count": 7,
     "metadata": {},
     "output_type": "execute_result"
    }
   ],
   "source": [
    "json.loads(k)"
   ]
  },
  {
   "cell_type": "code",
   "execution_count": null,
   "id": "0b40a4e8",
   "metadata": {},
   "outputs": [],
   "source": "# Debug the project creation issue\nproject_id = \"e1f3d8d4-2c73-4dd5-90ad-d60599087a32\"\ncorrect_key = f\"project:{project_id}\"\nprint(f\"Looking for key: {correct_key}\")\n\n# Check if the key exists\nexists = client.exists(correct_key)\nprint(f\"Key exists: {exists}\")\n\n# Try to get the data\nresult = client.hgetall(correct_key)\nprint(f\"Project data: {result}\")\n\n# Check all project keys in Redis\nprint(\"\\nAll project keys:\")\nproject_keys = []\nfor key in client.scan_iter('project:*'):\n    decoded_key = key.decode()\n    project_keys.append(decoded_key)\n    print(f\"  {decoded_key}\")\n\nprint(f\"\\nTotal project keys found: {len(project_keys)}\")\n\n# Also check for user project indexes\nprint(\"\\nUser project indexes:\")\nfor key in client.scan_iter('user_projects:*'):\n    decoded_key = key.decode()\n    print(f\"  {decoded_key}\")\n    # Get the projects for this user\n    projects = client.zrange(decoded_key, 0, -1, withscores=True)\n    for project, score in projects:\n        print(f\"    Project: {project.decode()}, Score: {score}\")"
  }
 ],
 "metadata": {
  "kernelspec": {
   "display_name": "base",
   "language": "python",
   "name": "python3"
  },
  "language_info": {
   "codemirror_mode": {
    "name": "ipython",
    "version": 3
   },
   "file_extension": ".py",
   "mimetype": "text/x-python",
   "name": "python",
   "nbconvert_exporter": "python",
   "pygments_lexer": "ipython3",
   "version": "3.11.11"
  }
 },
 "nbformat": 4,
 "nbformat_minor": 5
}